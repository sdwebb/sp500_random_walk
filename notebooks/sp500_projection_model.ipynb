{
 "cells": [
  {
   "cell_type": "code",
   "execution_count": 1,
   "metadata": {},
   "outputs": [],
   "source": [
    "# Standard imports\n",
    "import datetime as dt\n",
    "from matplotlib import pyplot as plt\n",
    "import numpy as np\n",
    "import pandas as pd\n",
    "from scipy.optimize import curve_fit\n",
    "import seaborn as sns\n",
    "\n",
    "# using inline, have to set the figure bigger\n",
    "%matplotlib inline\n",
    "\n",
    "# set figure parameters so they look pretty\n",
    "import matplotlib.pylab as pylab\n",
    "params = {'legend.fontsize': 10,\n",
    "          'figure.figsize': (9.5, 6),\n",
    "         'axes.labelsize': 12,\n",
    "         'axes.titlesize': 14,\n",
    "         'xtick.labelsize': 12,\n",
    "         'ytick.labelsize': 12,\n",
    "         'axes.spines.right' : False,\n",
    "         'axes.spines.left' : False,\n",
    "         'axes.spines.top' : False,\n",
    "         'axes.spines.bottom' : False}\n",
    "pylab.rcParams.update(params)\n",
    "\n",
    "# I like to have more colors than what are available, so define tableau20 colors:\n",
    "tableau20 = [(31, 119, 180), (174, 199, 232), (255, 127, 14), (255, 187, 120),    \n",
    "             (44, 160, 44), (152, 223, 138), (214, 39, 40), (255, 152, 150),    \n",
    "             (148, 103, 189), (197, 176, 213), (140, 86, 75), (196, 156, 148),    \n",
    "             (227, 119, 194), (247, 182, 210), (127, 127, 127), (199, 199, 199),    \n",
    "             (188, 189, 34), (219, 219, 141), (23, 190, 207), (158, 218, 229)]\n",
    "\n",
    "for i in range(len(tableau20)):    \n",
    "    r, g, b = tableau20[i]    \n",
    "    tableau20[i] = (r / 255., g / 255., b / 255.)  "
   ]
  },
  {
   "cell_type": "markdown",
   "metadata": {},
   "source": [
    "# Data Exploration\n",
    "\n",
    "Read in the data, convert it to useful date information, and look at the general S&P 500 trend."
   ]
  },
  {
   "cell_type": "code",
   "execution_count": 2,
   "metadata": {},
   "outputs": [],
   "source": [
    "# load in the S&P 500 historical data\n",
    "sp500_df = pd.read_csv('../data/GSPC.csv')\n",
    "\n",
    "# define an array that measures in years -- we'll need it for fitting later\n",
    "\n",
    "# convert everything to a datetime object\n",
    "sp500_df['Date']      = pd.to_datetime(sp500_df.Date)\n",
    "sp500_df['DayOfYear'] = sp500_df.Date.dt.dayofyear\n",
    "sp500_df['Year']      = sp500_df.Date.dt.year\n",
    "sp500_df['Month']     = sp500_df.Date.dt.month\n",
    "sp500_df['Dat']       = sp500_df.Date.dt.day\n",
    "\n",
    "t_years = np.array(list(range(0, np.shape(sp500_df['Open'])[0])))/365."
   ]
  },
  {
   "cell_type": "code",
   "execution_count": 3,
   "metadata": {},
   "outputs": [
    {
     "data": {
      "text/html": [
       "<div>\n",
       "<style scoped>\n",
       "    .dataframe tbody tr th:only-of-type {\n",
       "        vertical-align: middle;\n",
       "    }\n",
       "\n",
       "    .dataframe tbody tr th {\n",
       "        vertical-align: top;\n",
       "    }\n",
       "\n",
       "    .dataframe thead th {\n",
       "        text-align: right;\n",
       "    }\n",
       "</style>\n",
       "<table border=\"1\" class=\"dataframe\">\n",
       "  <thead>\n",
       "    <tr style=\"text-align: right;\">\n",
       "      <th></th>\n",
       "      <th>Date</th>\n",
       "      <th>Open</th>\n",
       "      <th>High</th>\n",
       "      <th>Low</th>\n",
       "      <th>Close</th>\n",
       "      <th>Adj Close</th>\n",
       "      <th>Volume</th>\n",
       "      <th>DayOfYear</th>\n",
       "      <th>Year</th>\n",
       "      <th>Month</th>\n",
       "      <th>Dat</th>\n",
       "    </tr>\n",
       "  </thead>\n",
       "  <tbody>\n",
       "    <tr>\n",
       "      <th>0</th>\n",
       "      <td>1927-12-30</td>\n",
       "      <td>17.660000</td>\n",
       "      <td>17.660000</td>\n",
       "      <td>17.660000</td>\n",
       "      <td>17.660000</td>\n",
       "      <td>17.660000</td>\n",
       "      <td>0</td>\n",
       "      <td>364</td>\n",
       "      <td>1927</td>\n",
       "      <td>12</td>\n",
       "      <td>30</td>\n",
       "    </tr>\n",
       "    <tr>\n",
       "      <th>1</th>\n",
       "      <td>1928-01-03</td>\n",
       "      <td>17.760000</td>\n",
       "      <td>17.760000</td>\n",
       "      <td>17.760000</td>\n",
       "      <td>17.760000</td>\n",
       "      <td>17.760000</td>\n",
       "      <td>0</td>\n",
       "      <td>3</td>\n",
       "      <td>1928</td>\n",
       "      <td>1</td>\n",
       "      <td>3</td>\n",
       "    </tr>\n",
       "    <tr>\n",
       "      <th>2</th>\n",
       "      <td>1928-01-04</td>\n",
       "      <td>17.719999</td>\n",
       "      <td>17.719999</td>\n",
       "      <td>17.719999</td>\n",
       "      <td>17.719999</td>\n",
       "      <td>17.719999</td>\n",
       "      <td>0</td>\n",
       "      <td>4</td>\n",
       "      <td>1928</td>\n",
       "      <td>1</td>\n",
       "      <td>4</td>\n",
       "    </tr>\n",
       "    <tr>\n",
       "      <th>3</th>\n",
       "      <td>1928-01-05</td>\n",
       "      <td>17.549999</td>\n",
       "      <td>17.549999</td>\n",
       "      <td>17.549999</td>\n",
       "      <td>17.549999</td>\n",
       "      <td>17.549999</td>\n",
       "      <td>0</td>\n",
       "      <td>5</td>\n",
       "      <td>1928</td>\n",
       "      <td>1</td>\n",
       "      <td>5</td>\n",
       "    </tr>\n",
       "    <tr>\n",
       "      <th>4</th>\n",
       "      <td>1928-01-06</td>\n",
       "      <td>17.660000</td>\n",
       "      <td>17.660000</td>\n",
       "      <td>17.660000</td>\n",
       "      <td>17.660000</td>\n",
       "      <td>17.660000</td>\n",
       "      <td>0</td>\n",
       "      <td>6</td>\n",
       "      <td>1928</td>\n",
       "      <td>1</td>\n",
       "      <td>6</td>\n",
       "    </tr>\n",
       "  </tbody>\n",
       "</table>\n",
       "</div>"
      ],
      "text/plain": [
       "        Date       Open       High        Low      Close  Adj Close  Volume  \\\n",
       "0 1927-12-30  17.660000  17.660000  17.660000  17.660000  17.660000       0   \n",
       "1 1928-01-03  17.760000  17.760000  17.760000  17.760000  17.760000       0   \n",
       "2 1928-01-04  17.719999  17.719999  17.719999  17.719999  17.719999       0   \n",
       "3 1928-01-05  17.549999  17.549999  17.549999  17.549999  17.549999       0   \n",
       "4 1928-01-06  17.660000  17.660000  17.660000  17.660000  17.660000       0   \n",
       "\n",
       "   DayOfYear  Year  Month  Dat  \n",
       "0        364  1927     12   30  \n",
       "1          3  1928      1    3  \n",
       "2          4  1928      1    4  \n",
       "3          5  1928      1    5  \n",
       "4          6  1928      1    6  "
      ]
     },
     "execution_count": 3,
     "metadata": {},
     "output_type": "execute_result"
    },
    {
     "data": {
      "text/html": [
       "<div>\n",
       "<style scoped>\n",
       "    .dataframe tbody tr th:only-of-type {\n",
       "        vertical-align: middle;\n",
       "    }\n",
       "\n",
       "    .dataframe tbody tr th {\n",
       "        vertical-align: top;\n",
       "    }\n",
       "\n",
       "    .dataframe thead th {\n",
       "        text-align: right;\n",
       "    }\n",
       "</style>\n",
       "<table border=\"1\" class=\"dataframe\">\n",
       "  <thead>\n",
       "    <tr style=\"text-align: right;\">\n",
       "      <th></th>\n",
       "      <th>Date</th>\n",
       "      <th>Open</th>\n",
       "      <th>High</th>\n",
       "      <th>Low</th>\n",
       "      <th>Close</th>\n",
       "      <th>Adj Close</th>\n",
       "      <th>Volume</th>\n",
       "      <th>DayOfYear</th>\n",
       "      <th>Year</th>\n",
       "      <th>Month</th>\n",
       "      <th>Dat</th>\n",
       "    </tr>\n",
       "  </thead>\n",
       "  <tbody>\n",
       "    <tr>\n",
       "      <th>23130</th>\n",
       "      <td>2020-02-03</td>\n",
       "      <td>3235.659912</td>\n",
       "      <td>3268.439941</td>\n",
       "      <td>3235.659912</td>\n",
       "      <td>3248.919922</td>\n",
       "      <td>3248.919922</td>\n",
       "      <td>3757910000</td>\n",
       "      <td>34</td>\n",
       "      <td>2020</td>\n",
       "      <td>2</td>\n",
       "      <td>3</td>\n",
       "    </tr>\n",
       "    <tr>\n",
       "      <th>23131</th>\n",
       "      <td>2020-02-04</td>\n",
       "      <td>3280.610107</td>\n",
       "      <td>3306.919922</td>\n",
       "      <td>3280.610107</td>\n",
       "      <td>3297.590088</td>\n",
       "      <td>3297.590088</td>\n",
       "      <td>3995320000</td>\n",
       "      <td>35</td>\n",
       "      <td>2020</td>\n",
       "      <td>2</td>\n",
       "      <td>4</td>\n",
       "    </tr>\n",
       "    <tr>\n",
       "      <th>23132</th>\n",
       "      <td>2020-02-05</td>\n",
       "      <td>3324.909912</td>\n",
       "      <td>3337.580078</td>\n",
       "      <td>3313.750000</td>\n",
       "      <td>3334.689941</td>\n",
       "      <td>3334.689941</td>\n",
       "      <td>4117730000</td>\n",
       "      <td>36</td>\n",
       "      <td>2020</td>\n",
       "      <td>2</td>\n",
       "      <td>5</td>\n",
       "    </tr>\n",
       "    <tr>\n",
       "      <th>23133</th>\n",
       "      <td>2020-02-06</td>\n",
       "      <td>3344.919922</td>\n",
       "      <td>3347.959961</td>\n",
       "      <td>3334.389893</td>\n",
       "      <td>3345.780029</td>\n",
       "      <td>3345.780029</td>\n",
       "      <td>3868370000</td>\n",
       "      <td>37</td>\n",
       "      <td>2020</td>\n",
       "      <td>2</td>\n",
       "      <td>6</td>\n",
       "    </tr>\n",
       "    <tr>\n",
       "      <th>23134</th>\n",
       "      <td>2020-02-07</td>\n",
       "      <td>3335.540039</td>\n",
       "      <td>3341.419922</td>\n",
       "      <td>3322.120117</td>\n",
       "      <td>3327.709961</td>\n",
       "      <td>3327.709961</td>\n",
       "      <td>3730650000</td>\n",
       "      <td>38</td>\n",
       "      <td>2020</td>\n",
       "      <td>2</td>\n",
       "      <td>7</td>\n",
       "    </tr>\n",
       "  </tbody>\n",
       "</table>\n",
       "</div>"
      ],
      "text/plain": [
       "            Date         Open         High          Low        Close  \\\n",
       "23130 2020-02-03  3235.659912  3268.439941  3235.659912  3248.919922   \n",
       "23131 2020-02-04  3280.610107  3306.919922  3280.610107  3297.590088   \n",
       "23132 2020-02-05  3324.909912  3337.580078  3313.750000  3334.689941   \n",
       "23133 2020-02-06  3344.919922  3347.959961  3334.389893  3345.780029   \n",
       "23134 2020-02-07  3335.540039  3341.419922  3322.120117  3327.709961   \n",
       "\n",
       "         Adj Close      Volume  DayOfYear  Year  Month  Dat  \n",
       "23130  3248.919922  3757910000         34  2020      2    3  \n",
       "23131  3297.590088  3995320000         35  2020      2    4  \n",
       "23132  3334.689941  4117730000         36  2020      2    5  \n",
       "23133  3345.780029  3868370000         37  2020      2    6  \n",
       "23134  3327.709961  3730650000         38  2020      2    7  "
      ]
     },
     "execution_count": 3,
     "metadata": {},
     "output_type": "execute_result"
    },
    {
     "data": {
      "text/html": [
       "<div>\n",
       "<style scoped>\n",
       "    .dataframe tbody tr th:only-of-type {\n",
       "        vertical-align: middle;\n",
       "    }\n",
       "\n",
       "    .dataframe tbody tr th {\n",
       "        vertical-align: top;\n",
       "    }\n",
       "\n",
       "    .dataframe thead th {\n",
       "        text-align: right;\n",
       "    }\n",
       "</style>\n",
       "<table border=\"1\" class=\"dataframe\">\n",
       "  <thead>\n",
       "    <tr style=\"text-align: right;\">\n",
       "      <th></th>\n",
       "      <th>Open</th>\n",
       "      <th>High</th>\n",
       "      <th>Low</th>\n",
       "      <th>Close</th>\n",
       "      <th>Adj Close</th>\n",
       "      <th>Volume</th>\n",
       "      <th>DayOfYear</th>\n",
       "      <th>Year</th>\n",
       "      <th>Month</th>\n",
       "      <th>Dat</th>\n",
       "    </tr>\n",
       "  </thead>\n",
       "  <tbody>\n",
       "    <tr>\n",
       "      <th>count</th>\n",
       "      <td>23135.000000</td>\n",
       "      <td>23135.000000</td>\n",
       "      <td>23135.000000</td>\n",
       "      <td>23135.000000</td>\n",
       "      <td>23135.000000</td>\n",
       "      <td>2.313500e+04</td>\n",
       "      <td>23135.000000</td>\n",
       "      <td>23135.000000</td>\n",
       "      <td>23135.000000</td>\n",
       "      <td>23135.000000</td>\n",
       "    </tr>\n",
       "    <tr>\n",
       "      <th>mean</th>\n",
       "      <td>465.417805</td>\n",
       "      <td>468.087517</td>\n",
       "      <td>462.591294</td>\n",
       "      <td>465.521319</td>\n",
       "      <td>465.521319</td>\n",
       "      <td>7.337330e+08</td>\n",
       "      <td>182.776832</td>\n",
       "      <td>1973.639378</td>\n",
       "      <td>6.510741</td>\n",
       "      <td>15.759888</td>\n",
       "    </tr>\n",
       "    <tr>\n",
       "      <th>std</th>\n",
       "      <td>688.539723</td>\n",
       "      <td>691.981567</td>\n",
       "      <td>684.823107</td>\n",
       "      <td>688.661500</td>\n",
       "      <td>688.661500</td>\n",
       "      <td>1.432321e+09</td>\n",
       "      <td>104.890424</td>\n",
       "      <td>26.570625</td>\n",
       "      <td>3.432909</td>\n",
       "      <td>8.740327</td>\n",
       "    </tr>\n",
       "    <tr>\n",
       "      <th>min</th>\n",
       "      <td>4.400000</td>\n",
       "      <td>4.400000</td>\n",
       "      <td>4.400000</td>\n",
       "      <td>4.400000</td>\n",
       "      <td>4.400000</td>\n",
       "      <td>0.000000e+00</td>\n",
       "      <td>2.000000</td>\n",
       "      <td>1927.000000</td>\n",
       "      <td>1.000000</td>\n",
       "      <td>1.000000</td>\n",
       "    </tr>\n",
       "    <tr>\n",
       "      <th>25%</th>\n",
       "      <td>23.700001</td>\n",
       "      <td>23.700001</td>\n",
       "      <td>23.700001</td>\n",
       "      <td>23.700001</td>\n",
       "      <td>23.700001</td>\n",
       "      <td>1.230000e+06</td>\n",
       "      <td>92.000000</td>\n",
       "      <td>1951.000000</td>\n",
       "      <td>4.000000</td>\n",
       "      <td>8.000000</td>\n",
       "    </tr>\n",
       "    <tr>\n",
       "      <th>50%</th>\n",
       "      <td>98.940002</td>\n",
       "      <td>99.709999</td>\n",
       "      <td>98.110001</td>\n",
       "      <td>98.930000</td>\n",
       "      <td>98.930000</td>\n",
       "      <td>1.673000e+07</td>\n",
       "      <td>182.000000</td>\n",
       "      <td>1974.000000</td>\n",
       "      <td>7.000000</td>\n",
       "      <td>16.000000</td>\n",
       "    </tr>\n",
       "    <tr>\n",
       "      <th>75%</th>\n",
       "      <td>759.170013</td>\n",
       "      <td>766.820007</td>\n",
       "      <td>753.035004</td>\n",
       "      <td>759.505005</td>\n",
       "      <td>759.505005</td>\n",
       "      <td>4.773700e+08</td>\n",
       "      <td>273.000000</td>\n",
       "      <td>1997.000000</td>\n",
       "      <td>9.000000</td>\n",
       "      <td>23.000000</td>\n",
       "    </tr>\n",
       "    <tr>\n",
       "      <th>max</th>\n",
       "      <td>3344.919922</td>\n",
       "      <td>3347.959961</td>\n",
       "      <td>3334.389893</td>\n",
       "      <td>3345.780029</td>\n",
       "      <td>3345.780029</td>\n",
       "      <td>1.145623e+10</td>\n",
       "      <td>366.000000</td>\n",
       "      <td>2020.000000</td>\n",
       "      <td>12.000000</td>\n",
       "      <td>31.000000</td>\n",
       "    </tr>\n",
       "  </tbody>\n",
       "</table>\n",
       "</div>"
      ],
      "text/plain": [
       "               Open          High           Low         Close     Adj Close  \\\n",
       "count  23135.000000  23135.000000  23135.000000  23135.000000  23135.000000   \n",
       "mean     465.417805    468.087517    462.591294    465.521319    465.521319   \n",
       "std      688.539723    691.981567    684.823107    688.661500    688.661500   \n",
       "min        4.400000      4.400000      4.400000      4.400000      4.400000   \n",
       "25%       23.700001     23.700001     23.700001     23.700001     23.700001   \n",
       "50%       98.940002     99.709999     98.110001     98.930000     98.930000   \n",
       "75%      759.170013    766.820007    753.035004    759.505005    759.505005   \n",
       "max     3344.919922   3347.959961   3334.389893   3345.780029   3345.780029   \n",
       "\n",
       "             Volume     DayOfYear          Year         Month           Dat  \n",
       "count  2.313500e+04  23135.000000  23135.000000  23135.000000  23135.000000  \n",
       "mean   7.337330e+08    182.776832   1973.639378      6.510741     15.759888  \n",
       "std    1.432321e+09    104.890424     26.570625      3.432909      8.740327  \n",
       "min    0.000000e+00      2.000000   1927.000000      1.000000      1.000000  \n",
       "25%    1.230000e+06     92.000000   1951.000000      4.000000      8.000000  \n",
       "50%    1.673000e+07    182.000000   1974.000000      7.000000     16.000000  \n",
       "75%    4.773700e+08    273.000000   1997.000000      9.000000     23.000000  \n",
       "max    1.145623e+10    366.000000   2020.000000     12.000000     31.000000  "
      ]
     },
     "execution_count": 3,
     "metadata": {},
     "output_type": "execute_result"
    }
   ],
   "source": [
    "# take a peak at the structure of the data\n",
    "sp500_df.head()\n",
    "sp500_df.tail()\n",
    "\n",
    "sp500_df.describe()"
   ]
  },
  {
   "cell_type": "code",
   "execution_count": 4,
   "metadata": {},
   "outputs": [
    {
     "name": "stderr",
     "output_type": "stream",
     "text": [
      "//anaconda3/lib/python3.7/site-packages/pandas/plotting/_converter.py:129: FutureWarning: Using an implicitly registered datetime converter for a matplotlib plotting method. The converter was registered by pandas on import. Future versions of pandas will require you to explicitly register matplotlib converters.\n",
      "\n",
      "To register the converters:\n",
      "\t>>> from pandas.plotting import register_matplotlib_converters\n",
      "\t>>> register_matplotlib_converters()\n",
      "  warnings.warn(msg, FutureWarning)\n",
      "//anaconda3/lib/python3.7/site-packages/ipykernel_launcher.py:11: UserWarning: Matplotlib is currently using module://ipykernel.pylab.backend_inline, which is a non-GUI backend, so cannot show the figure.\n",
      "  # This is added back by InteractiveShellApp.init_path()\n"
     ]
    },
    {
     "data": {
      "image/png": "[encoded data removed]",
      "text/plain": [
       "<Figure size 432x288 with 1 Axes>"
      ]
     },
     "metadata": {
      "needs_background": "light"
     },
     "output_type": "display_data"
    }
   ],
   "source": [
    "# lets look at the long term trend for the opening value\n",
    "fig, ax = plt.subplots()\n",
    "ax.plot(sp500_df.Date, sp500_df.Open, c='tab:gray')\n",
    "ax.set_xlabel('date', fontsize=12)\n",
    "ax.set_ylabel('S&P 500 Value, $', fontsize=12)\n",
    "\n",
    "fig.autofmt_xdate()\n",
    "\n",
    "fig.tight_layout()\n",
    "fig.savefig('sp500.png', bbox_inches=\"tight\");\n",
    "fig.show();"
   ]
  },
  {
   "cell_type": "markdown",
   "metadata": {},
   "source": [
    "There is an exponential-looking growth here, so looking at this on a semilog plot might be helpful"
   ]
  },
  {
   "cell_type": "code",
   "execution_count": 5,
   "metadata": {},
   "outputs": [
    {
     "data": {
      "image/png": "[encoded data removed]",
      "text/plain": [
       "<Figure size 432x288 with 1 Axes>"
      ]
     },
     "metadata": {
      "needs_background": "light"
     },
     "output_type": "display_data"
    }
   ],
   "source": [
    "# Compare the fit to the real data on a semi-log plot\n",
    "fig, ax = plt.subplots()\n",
    "ax.semilogy(sp500_df.Date, sp500_df['Open'], c='tab:gray', label='S&P 500 data')\n",
    "ax.set_xlabel('year')\n",
    "ax.set_ylabel('S&P 500 Value, $')\n",
    "\n",
    "#ax.legend()\n",
    "fig.autofmt_xdate()\n",
    "\n",
    "fig.tight_layout()\n",
    "fig.savefig('sp500_semilog.png', bbox_inches=\"tight\");"
   ]
  },
  {
   "cell_type": "markdown",
   "metadata": {},
   "source": [
    "# Fitting the mean growth\n",
    "\n",
    "This curve looks like it may have some exponential growth trend to it, so it would be good to isolate the exponential growth and look at a time-normalized value for the S&P 500.\n",
    "\n",
    "We will fit a curve of the form\n",
    "\n",
    "$\\textrm{val} = \\textrm{val}(0) \\exp[t/\\tau]$\n",
    "\n",
    "to find the growth constant $\\tau$ that tells us the rate per trading day of S&p 500 growth. We will then subtract off this general trend line to look at shorter-time variations."
   ]
  },
  {
   "cell_type": "code",
   "execution_count": 6,
   "metadata": {},
   "outputs": [
    {
     "name": "stdout",
     "output_type": "stream",
     "text": [
      "time constant tau = 10.514183396623846 trading years\n"
     ]
    }
   ],
   "source": [
    "# Fit an exponential curve to the closing date, so we can normalize to the local average\n",
    "oneOtau, a = np.polyfit(t_years, np.log(sp500_df['Open']), 1)\n",
    "exp_fit = np.exp(oneOtau * t_years + a)\n",
    "\n",
    "print('time constant tau = {} trading years'.format(1/oneOtau))"
   ]
  },
  {
   "cell_type": "markdown",
   "metadata": {},
   "source": [
    "Because of the exponential growth over many growth cycles, comparing goodness of fit to the data is best done visually on a semi-log plot. Exponential growth will appear as a straight line with slope $1/\\tau$"
   ]
  },
  {
   "cell_type": "code",
   "execution_count": 7,
   "metadata": {},
   "outputs": [
    {
     "data": {
      "text/plain": [
       "[<matplotlib.lines.Line2D at 0x1a221697b8>]"
      ]
     },
     "execution_count": 7,
     "metadata": {},
     "output_type": "execute_result"
    },
    {
     "data": {
      "text/plain": [
       "[<matplotlib.lines.Line2D at 0x1a22169048>]"
      ]
     },
     "execution_count": 7,
     "metadata": {},
     "output_type": "execute_result"
    },
    {
     "data": {
      "text/plain": [
       "Text(0.5, 0, 'year')"
      ]
     },
     "execution_count": 7,
     "metadata": {},
     "output_type": "execute_result"
    },
    {
     "data": {
      "text/plain": [
       "Text(0, 0.5, 'S&P 500 Value, $')"
      ]
     },
     "execution_count": 7,
     "metadata": {},
     "output_type": "execute_result"
    },
    {
     "data": {
      "text/plain": [
       "<matplotlib.legend.Legend at 0x10f4a60b8>"
      ]
     },
     "execution_count": 7,
     "metadata": {},
     "output_type": "execute_result"
    },
    {
     "name": "stdout",
     "output_type": "stream",
     "text": [
      "exponential e-fold growth time = 10.514183396623846 years\n"
     ]
    },
    {
     "data": {
      "image/png": "[encoded data removed]",
      "text/plain": [
       "<Figure size 432x288 with 1 Axes>"
      ]
     },
     "metadata": {
      "needs_background": "light"
     },
     "output_type": "display_data"
    }
   ],
   "source": [
    "# Compare the fit to the real data on a semi-log plot\n",
    "fig, ax = plt.subplots()\n",
    "ax.semilogy(sp500_df.Date, exp_fit, c='tab:blue', label='exponential')\n",
    "ax.semilogy(sp500_df.Date, sp500_df['Open'], c='tab:gray', label='S&P 500 data')\n",
    "ax.set_xlabel('year')\n",
    "ax.set_ylabel('S&P 500 Value, $')\n",
    "\n",
    "ax.legend()\n",
    "fig.autofmt_xdate()\n",
    "\n",
    "fig.tight_layout()\n",
    "fig.savefig('exp_fit.png', bbox_inches=\"tight\");\n",
    "\n",
    "print('exponential e-fold growth time = {} years'.format(1/oneOtau))"
   ]
  },
  {
   "cell_type": "markdown",
   "metadata": {},
   "source": [
    "## Historical Context\n",
    "\n",
    "That's a pretty consistent exponential growth from the bottom of the Great Depression, around 1933, until today. It might help to look at those bumps and dips in historical context."
   ]
  },
  {
   "cell_type": "code",
   "execution_count": 8,
   "metadata": {},
   "outputs": [
    {
     "data": {
      "text/plain": [
       "Text(1929-10-29 00:00:00, 55, 'Great Depression')"
      ]
     },
     "execution_count": 8,
     "metadata": {},
     "output_type": "execute_result"
    },
    {
     "data": {
      "text/plain": [
       "Text(1941-12-07 00:00:00, 4, 'World War II')"
      ]
     },
     "execution_count": 8,
     "metadata": {},
     "output_type": "execute_result"
    },
    {
     "data": {
      "text/plain": [
       "Text(1973-10-01 00:00:00, 25, 'Energy Crisis')"
      ]
     },
     "execution_count": 8,
     "metadata": {},
     "output_type": "execute_result"
    },
    {
     "data": {
      "text/plain": [
       "Text(1990-11-09 00:00:00, 3000, 'Dot-Com Bubble')"
      ]
     },
     "execution_count": 8,
     "metadata": {},
     "output_type": "execute_result"
    },
    {
     "data": {
      "text/plain": [
       "Text(1998-09-20 00:00:00, 200, 'Great Recession')"
      ]
     },
     "execution_count": 8,
     "metadata": {},
     "output_type": "execute_result"
    },
    {
     "data": {
      "text/plain": [
       "[<matplotlib.lines.Line2D at 0x1a21a3f208>]"
      ]
     },
     "execution_count": 8,
     "metadata": {},
     "output_type": "execute_result"
    },
    {
     "data": {
      "text/plain": [
       "[<matplotlib.lines.Line2D at 0x10ea0aa58>]"
      ]
     },
     "execution_count": 8,
     "metadata": {},
     "output_type": "execute_result"
    },
    {
     "data": {
      "text/plain": [
       "Text(0.5, 0, 'year')"
      ]
     },
     "execution_count": 8,
     "metadata": {},
     "output_type": "execute_result"
    },
    {
     "data": {
      "text/plain": [
       "Text(0, 0.5, 'S&P 500 Value, $')"
      ]
     },
     "execution_count": 8,
     "metadata": {},
     "output_type": "execute_result"
    },
    {
     "data": {
      "text/plain": [
       "<matplotlib.legend.Legend at 0x1a229fa828>"
      ]
     },
     "execution_count": 8,
     "metadata": {},
     "output_type": "execute_result"
    },
    {
     "name": "stdout",
     "output_type": "stream",
     "text": [
      "exponential e-fold growth time = 10.514183396623846 years\n"
     ]
    },
    {
     "data": {
      "image/png": "[encoded data removed]",
      "text/plain": [
       "<Figure size 432x288 with 1 Axes>"
      ]
     },
     "metadata": {
      "needs_background": "light"
     },
     "output_type": "display_data"
    }
   ],
   "source": [
    "# Create an annotated curve for historical events\n",
    "fig, ax = plt.subplots()\n",
    "\n",
    "# Black Tuesday, the market crash that began the Great Depression\n",
    "black_tuesday = dt.datetime(1929, 10, 29)\n",
    "ax.annotate('Great Depression', xy=(black_tuesday, 30), xytext=(black_tuesday, 55),\n",
    "            arrowprops=dict(facecolor='black', arrowstyle=\"->\",\n",
    "                            connectionstyle=\"arc3\"),\n",
    "            );\n",
    "\n",
    "# Pearl Harbor attack\n",
    "pearl_harbor = dt.datetime(1941, 12, 7)\n",
    "ax.annotate('World War II', xy=(pearl_harbor, 8), xytext=(pearl_harbor, 4),\n",
    "            arrowprops=dict(facecolor='black', arrowstyle=\"->\",\n",
    "                            connectionstyle=\"arc3\"),\n",
    "            );\n",
    "\n",
    "# The day OPEC began the oil embargo on the US\n",
    "energy_crisis = dt.datetime(1973, 10, 1)\n",
    "ax.annotate('Energy Crisis', xy=(energy_crisis, 73), xytext=(energy_crisis, 25),\n",
    "            arrowprops=dict(facecolor='black', arrowstyle=\"->\",\n",
    "                            connectionstyle=\"arc3\"),\n",
    "            );\n",
    "\n",
    "# pets.com goes bankrupt nine months after an ~$85mn IPO\n",
    "pets_dot_com = dt.datetime(2000, 11,9)\n",
    "pets_dot_com_label = dt.datetime(1990, 11,9)\n",
    "ax.annotate('Dot-Com Bubble', xy=(pets_dot_com, 1500), xytext=(pets_dot_com_label, 3000),\n",
    "            arrowprops=dict(facecolor='black', arrowstyle=\"->\",\n",
    "                            connectionstyle=\"arc3\"),\n",
    "            );\n",
    "\n",
    "# Lehman Brothers folds\n",
    "lehman_brothers = dt.datetime(2008, 9, 20)\n",
    "lehman_brothers_label = dt.datetime(1998, 9, 20)\n",
    "ax.annotate('Great Recession', xy=(lehman_brothers, 700), xytext=(lehman_brothers_label, 200),\n",
    "            arrowprops=dict(facecolor='black', arrowstyle=\"->\",\n",
    "                            connectionstyle=\"arc3\"),\n",
    "            );\n",
    "\n",
    "ax.semilogy(sp500_df.Date, exp_fit, c='tab:blue', label='exponential')\n",
    "ax.semilogy(sp500_df.Date, sp500_df.Open, c='tab:gray', label='S&P 500 data')\n",
    "fig.autofmt_xdate()\n",
    "\n",
    "ax.set_xlabel('year')\n",
    "ax.set_ylabel('S&P 500 Value, $')\n",
    "\n",
    "ax.legend();\n",
    "fig.tight_layout()\n",
    "fig.savefig('exp_fit_annotated.png', bbox_inches=\"tight\");\n",
    "\n",
    "print('exponential e-fold growth time = {} years'.format(1/oneOtau))"
   ]
  },
  {
   "cell_type": "markdown",
   "metadata": {},
   "source": [
    "A few interesting notes\n",
    "\n",
    "1. This is a pretty good exponential fit, considering this data starts in 1927 and ends in 2020\n",
    "2. From this, you expect the S&P 500 value to increase e-fold (2.72x) every 10.5 years, which is good to know from a financial planning standpoint"
   ]
  },
  {
   "cell_type": "markdown",
   "metadata": {},
   "source": [
    "## Normalizing the Growth\n",
    "\n",
    "We can add back the exponential curve later. Right now we're more interested in the short-term fluctuations. So we subtract off the exponential trend line we computed above, and then divide by that to look at relative fluctuations around the trend line."
   ]
  },
  {
   "cell_type": "code",
   "execution_count": 9,
   "metadata": {},
   "outputs": [
    {
     "name": "stderr",
     "output_type": "stream",
     "text": [
      "//anaconda3/lib/python3.7/site-packages/ipykernel_launcher.py:43: UserWarning: Matplotlib is currently using module://ipykernel.pylab.backend_inline, which is a non-GUI backend, so cannot show the figure.\n"
     ]
    },
    {
     "data": {
      "image/png": "[encoded data removed]",
      "text/plain": [
       "<Figure size 432x288 with 1 Axes>"
      ]
     },
     "metadata": {
      "needs_background": "light"
     },
     "output_type": "display_data"
    }
   ],
   "source": [
    "# Create a normed Open value\n",
    "sp500_df['Open_norm'] = sp500_df['Open']/exp_fit - 1.\n",
    "\n",
    "fig, ax = plt.subplots()\n",
    "ax.plot(sp500_df.Date, sp500_df['Open_norm'], c='tab:brown')\n",
    "ax.fill_between(sp500_df.Date, 0., sp500_df['Open_norm'], facecolor='tab:brown', alpha=0.25)\n",
    "\n",
    "black_tuesday = dt.datetime(1929, 10, 29)\n",
    "ax.annotate('Great Depression', xy=(black_tuesday, 3), xytext=(black_tuesday, 1.5),\n",
    "            arrowprops=dict(facecolor='black', arrowstyle=\"->\",\n",
    "                            connectionstyle=\"arc3\"),\n",
    "            )\n",
    "pearl_harbor = dt.datetime(1941, 12, 7)\n",
    "ax.annotate('World War II', xy=(pearl_harbor, 0), xytext=(pearl_harbor, .5),\n",
    "            arrowprops=dict(facecolor='black', arrowstyle=\"->\",\n",
    "                            connectionstyle=\"arc3\"),\n",
    "            )\n",
    "\n",
    "energy_crisis = dt.datetime(1973, 10, 1)\n",
    "ax.annotate('Energy Crisis', xy=(energy_crisis, 0.), xytext=(energy_crisis, .5),\n",
    "            arrowprops=dict(facecolor='black', arrowstyle=\"->\",\n",
    "                            connectionstyle=\"arc3\"),\n",
    "            )\n",
    "\n",
    "lehman_brothers = dt.datetime(2008, 9, 20)\n",
    "lehman_brothers_label = dt.datetime(1998, 9, 20)\n",
    "ax.annotate('Great Recession', xy=(lehman_brothers, .5), xytext=(lehman_brothers_label, 1.),\n",
    "            arrowprops=dict(facecolor='black', arrowstyle=\"->\",\n",
    "                            connectionstyle=\"arc3\"),\n",
    "            )\n",
    "\n",
    "pets_dot_com = dt.datetime(2000, 11,9)\n",
    "pets_dot_com_label = dt.datetime(1990, 11,9)\n",
    "ax.annotate('Dot-Com Bubble', xy=(pets_dot_com, 0.), xytext=(pets_dot_com_label, -.65),\n",
    "            arrowprops=dict(facecolor='black', arrowstyle=\"->\",\n",
    "                            connectionstyle=\"arc3\"),\n",
    "            )\n",
    "\n",
    "ax.set_xlabel('time, financial years')\n",
    "ax.set_ylabel('Normalized S&P 500 Value')\n",
    "fig.tight_layout()\n",
    "fig.savefig('sp500_normed.png', bbox_inches=\"tight\")\n",
    "fig.show();"
   ]
  },
  {
   "cell_type": "markdown",
   "metadata": {},
   "source": [
    "In the above plot, $0$ means we are right on the exponential curve, and values greater than $0$ are growing ahead of the curve. It's a testament to policy that, after the Great Depression, we got very good at steady long term growth for most of the next hundred years."
   ]
  },
  {
   "cell_type": "markdown",
   "metadata": {},
   "source": [
    "# Statistical Properties of the S&P 500\n",
    "\n",
    "We will now analyze the statistical properties of the S&P 500 on a day-to-day variation. This can be used to build a model for how the market will perform in the future, by building a statistical model for predicting how the market will perform based on the previous day's percentage change. We can then use this model, atop the general exponential trend line, to estimate the range of stock performance over time."
   ]
  },
  {
   "cell_type": "markdown",
   "metadata": {},
   "source": [
    "## Day-to-Day Variations in the Market\n",
    "\n",
    "To analyze day-to-day variations and predict market variances, it would be useful to see if percent changes from day to day are correlated statistically, and to then develop a statistical model for that. First, we add a Pandas column for the percent change from day to day, and then we will look at temporal correlations. "
   ]
  },
  {
   "cell_type": "code",
   "execution_count": 10,
   "metadata": {},
   "outputs": [
    {
     "data": {
      "text/plain": [
       "count    23134.000000\n",
       "mean         0.000297\n",
       "std          0.011841\n",
       "min         -0.204669\n",
       "25%         -0.004505\n",
       "50%          0.000474\n",
       "75%          0.005384\n",
       "max          0.166096\n",
       "Name: PercentChange, dtype: float64"
      ]
     },
     "execution_count": 10,
     "metadata": {},
     "output_type": "execute_result"
    }
   ],
   "source": [
    "# compute percent change day to day, and look at some of the data\n",
    "sp500_df['PercentChange'] = sp500_df['Close'].pct_change()\n",
    "\n",
    "pc_mean = np.mean(sp500_df.PercentChange)\n",
    "pc_std = np.std(sp500_df.PercentChange)\n",
    "pc_max = np.max(sp500_df.PercentChange)\n",
    "pc_min = np.min(sp500_df.PercentChange)\n",
    "\n",
    "sp500_df.PercentChange.describe()"
   ]
  },
  {
   "cell_type": "code",
   "execution_count": 11,
   "metadata": {},
   "outputs": [
    {
     "name": "stderr",
     "output_type": "stream",
     "text": [
      "//anaconda3/lib/python3.7/site-packages/numpy/lib/histograms.py:824: RuntimeWarning: invalid value encountered in greater_equal\n",
      "  keep = (tmp_a >= first_edge)\n",
      "//anaconda3/lib/python3.7/site-packages/numpy/lib/histograms.py:825: RuntimeWarning: invalid value encountered in less_equal\n",
      "  keep &= (tmp_a <= last_edge)\n",
      "//anaconda3/lib/python3.7/site-packages/ipykernel_launcher.py:8: UserWarning: Matplotlib is currently using module://ipykernel.pylab.backend_inline, which is a non-GUI backend, so cannot show the figure.\n",
      "  \n"
     ]
    },
    {
     "data": {
      "image/png": "[encoded data removed]",
      "text/plain": [
       "<Figure size 432x288 with 1 Axes>"
      ]
     },
     "metadata": {
      "needs_background": "light"
     },
     "output_type": "display_data"
    }
   ],
   "source": [
    "n_bins = 250\n",
    "fig, ax = plt.subplots()\n",
    "ax.hist(sp500_df.PercentChange, bins=n_bins, color=tableau20[10])\n",
    "ax.plot()\n",
    "ax.set_xlabel(r'daily per cent change')\n",
    "ax.set_ylabel(r'count')\n",
    "\n",
    "fig.show();"
   ]
  },
  {
   "cell_type": "markdown",
   "metadata": {},
   "source": [
    "This does not quite look Gaussian, but possibly an exponential distribution. We will try the two fits from the data."
   ]
  },
  {
   "cell_type": "code",
   "execution_count": 12,
   "metadata": {},
   "outputs": [],
   "source": [
    "def exp_fit_func(x, mu, sigma, a):\n",
    "    return a * np.exp(- np.abs(x - mu)/sigma)\n",
    "\n",
    "def gauss_fit_func(x, mu, sigma, a):\n",
    "    return a * np.exp(-(x - mu)**2/(2.*sigma**2))"
   ]
  },
  {
   "cell_type": "code",
   "execution_count": 13,
   "metadata": {},
   "outputs": [
    {
     "name": "stdout",
     "output_type": "stream",
     "text": [
      "exp fit \n",
      " mu = 0.0006066859891389718 +/- 7.44579767999645e-10 \n",
      " sigma = 0.007265497653612161 +/- 2.855086892978554e-09 \n",
      " a = 2364.524097241972 +/- 154.4133237932432\n",
      "exp fit residual = 1675.5629092625543\n",
      "gauss fit \n",
      " mu = 0.0006289092928853479 +/- 6.341526773373017e-09 \n",
      " sigma = 0.00658274263546968 +/- 6.341527374295557e-09 \n",
      " a = 1859.0333502081469 +/- 379.32202088447997\n",
      "gauss fit residual = 4360.066672873471\n"
     ]
    }
   ],
   "source": [
    "# get the histogram data\n",
    "counts, bins = np.histogram(sp500_df.PercentChange, bins=n_bins, range=(pc_min, pc_max))\n",
    "bins_c = np.array([0.5 * (bins[idx] + bins[idx+1]) for idx in range(len(bins)-1)])\n",
    "\n",
    "# fit the exponential\n",
    "popt_exp, pcov_exp = curve_fit(exp_fit_func, xdata=bins_c, ydata=counts, p0=[ pc_mean, pc_std, np.max(counts)])\n",
    "popt_gauss, pcov_gauss = curve_fit(gauss_fit_func, xdata=bins_c, ydata=counts, p0=[ pc_mean, pc_std, np.max(counts)])\n",
    "\n",
    "# and compute the residual L2 norm\n",
    "exp_residual = np.sum(np.abs(exp_fit_func(bins_c, *popt_exp) - counts))\n",
    "gauss_residual = np.sum(np.abs(gauss_fit_func(bins_c, *popt_gauss) - counts))\n",
    "\n",
    "# and print the model results\n",
    "print('exp fit \\n mu = {} +/- {} \\n sigma = {} +/- {} \\n a = {} +/- {}'.format(\n",
    "    popt_exp[0], pcov_exp[0,0], popt_exp[1], pcov_exp[1,1], popt_exp[2], pcov_exp[2,2]))\n",
    "print('exp fit residual = {}'.format(exp_residual))\n",
    "\n",
    "print('gauss fit \\n mu = {} +/- {} \\n sigma = {} +/- {} \\n a = {} +/- {}'.format(\n",
    "    popt_gauss[0], pcov_gauss[0,0], popt_gauss[1], pcov_gauss[1,1], popt_gauss[2], pcov_gauss[2,2]))\n",
    "print('gauss fit residual = {}'.format(gauss_residual))"
   ]
  },
  {
   "cell_type": "code",
   "execution_count": 14,
   "metadata": {},
   "outputs": [
    {
     "name": "stderr",
     "output_type": "stream",
     "text": [
      "//anaconda3/lib/python3.7/site-packages/ipykernel_launcher.py:13: UserWarning: Matplotlib is currently using module://ipykernel.pylab.backend_inline, which is a non-GUI backend, so cannot show the figure.\n",
      "  del sys.path[0]\n"
     ]
    },
    {
     "data": {
      "image/png": "[encoded data removed]",
      "text/plain": [
       "<Figure size 432x288 with 1 Axes>"
      ]
     },
     "metadata": {
      "needs_background": "light"
     },
     "output_type": "display_data"
    }
   ],
   "source": [
    "# plot the relative fits\n",
    "fig, ax = plt.subplots()\n",
    "ax.bar(bins_c, counts, width=bins[1] - bins[0], alpha=0.5, color='black', label='S&P 500 Data')\n",
    "ax.plot(bins_c, exp_fit_func(bins_c, *popt_exp), c='tab:blue', label='exponential fit')\n",
    "ax.plot(bins_c, gauss_fit_func(bins_c, *popt_gauss), c='tab:orange', label='gaussian fit')\n",
    "ax.set_xlabel(r'daily per cent change')\n",
    "ax.set_ylabel(r'count')\n",
    "ax.set_xlim(left=pc_mean-5*pc_std, right=pc_mean+5*pc_std)\n",
    "\n",
    "fig.legend()\n",
    "fig.tight_layout()\n",
    "fig.savefig('percent_change_fit_comparisons.png', bbox_inches=\"tight\")\n",
    "fig.show();"
   ]
  },
  {
   "cell_type": "markdown",
   "metadata": {},
   "source": [
    "The exponential fit has a substantially smaller residual, and indeed it seems to capture the sharpness of the peak as well as the width of the tails much better than the gaussian, which underestimates the peak as well as the tails. \n",
    "\n",
    "This assumes that performance is completely uncorrelated in time. We will now look at how performance of one day predicts performance the next."
   ]
  },
  {
   "cell_type": "markdown",
   "metadata": {},
   "source": [
    "## Day-to-day correlations\n",
    "\n",
    "Let's look at how the performance of one day will influence the performance the next few days. We can use this to build a time series model predicting probable future performances."
   ]
  },
  {
   "cell_type": "code",
   "execution_count": 15,
   "metadata": {},
   "outputs": [
    {
     "name": "stdout",
     "output_type": "stream",
     "text": [
      "Sigma = \n",
      "[[ 1.40220834e-04 -1.81241397e-07]\n",
      " [-1.81241397e-07  1.40219986e-04]]\n"
     ]
    }
   ],
   "source": [
    "# first, split the historical data into two time-staggered lists\n",
    "day0 = sp500_df.PercentChange[1:-2]\n",
    "day1 = sp500_df.PercentChange[2:-1]\n",
    "\n",
    "# compute the covariance matrix\n",
    "print('Sigma = \\n{}'.format(np.cov([day0, day1])))"
   ]
  },
  {
   "cell_type": "code",
   "execution_count": 16,
   "metadata": {},
   "outputs": [
    {
     "name": "stderr",
     "output_type": "stream",
     "text": [
      "//anaconda3/lib/python3.7/site-packages/ipykernel_launcher.py:10: UserWarning: Matplotlib is currently using module://ipykernel.pylab.backend_inline, which is a non-GUI backend, so cannot show the figure.\n",
      "  # Remove the CWD from sys.path while we load stuff.\n"
     ]
    },
    {
     "data": {
      "image/png": "[encoded data removed]",
      "text/plain": [
       "<Figure size 432x288 with 1 Axes>"
      ]
     },
     "metadata": {
      "needs_background": "light"
     },
     "output_type": "display_data"
    }
   ],
   "source": [
    "# now, plot a scatter plot of the data\n",
    "fig, ax = plt.subplots()\n",
    "ax.scatter(day0, day1, s=1)\n",
    "\n",
    "ax.set_xlabel('% growth, yesterday')\n",
    "ax.set_ylabel('% growth, today')\n",
    "\n",
    "fig.tight_layout()\n",
    "fig.savefig('time_correlation_percent_growth.png', bbox_inches=\"tight\")\n",
    "fig.show();"
   ]
  },
  {
   "cell_type": "code",
   "execution_count": null,
   "metadata": {},
   "outputs": [],
   "source": []
  }
 ],
 "metadata": {
  "kernelspec": {
   "display_name": "Python 3",
   "language": "python",
   "name": "python3"
  },
  "language_info": {
   "codemirror_mode": {
    "name": "ipython",
    "version": 3
   },
   "file_extension": ".py",
   "mimetype": "text/x-python",
   "name": "python",
   "nbconvert_exporter": "python",
   "pygments_lexer": "ipython3",
   "version": "3.7.3"
  }
 },
 "nbformat": 4,
 "nbformat_minor": 2
}
