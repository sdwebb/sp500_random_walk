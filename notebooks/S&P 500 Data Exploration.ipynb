{
 "cells": [
  {
   "cell_type": "code",
   "execution_count": 1,
   "metadata": {},
   "outputs": [],
   "source": [
    "# Standard imports\n",
    "import pandas as pd\n",
    "from matplotlib import pyplot as plt\n",
    "import seaborn as sns\n",
    "\n",
    "import numpy as np\n",
    "\n",
    "%matplotlib notebook"
   ]
  },
  {
   "cell_type": "markdown",
   "metadata": {},
   "source": [
    "## Data Exploration"
   ]
  },
  {
   "cell_type": "code",
   "execution_count": 2,
   "metadata": {},
   "outputs": [],
   "source": [
    "# load in the S&P 500 historical data\n",
    "sp500_df = pd.read_csv('../data/GSPC.csv')\n",
    "\n",
    "# define an array that measures in years -- we'll need it for fitting later\n",
    "t_years = np.array(list(range(0, np.shape(sp500_df['Open'])[0])))/365."
   ]
  },
  {
   "cell_type": "code",
   "execution_count": 86,
   "metadata": {},
   "outputs": [
    {
     "data": {
      "text/html": [
       "<div>\n",
       "<style scoped>\n",
       "    .dataframe tbody tr th:only-of-type {\n",
       "        vertical-align: middle;\n",
       "    }\n",
       "\n",
       "    .dataframe tbody tr th {\n",
       "        vertical-align: top;\n",
       "    }\n",
       "\n",
       "    .dataframe thead th {\n",
       "        text-align: right;\n",
       "    }\n",
       "</style>\n",
       "<table border=\"1\" class=\"dataframe\">\n",
       "  <thead>\n",
       "    <tr style=\"text-align: right;\">\n",
       "      <th></th>\n",
       "      <th>Date</th>\n",
       "      <th>Open</th>\n",
       "      <th>High</th>\n",
       "      <th>Low</th>\n",
       "      <th>Close</th>\n",
       "      <th>Adj Close</th>\n",
       "      <th>Volume</th>\n",
       "      <th>Open_norm</th>\n",
       "    </tr>\n",
       "  </thead>\n",
       "  <tbody>\n",
       "    <tr>\n",
       "      <th>0</th>\n",
       "      <td>1927-12-30</td>\n",
       "      <td>17.660000</td>\n",
       "      <td>17.660000</td>\n",
       "      <td>17.660000</td>\n",
       "      <td>17.660000</td>\n",
       "      <td>17.660000</td>\n",
       "      <td>0</td>\n",
       "      <td>1.897009</td>\n",
       "    </tr>\n",
       "    <tr>\n",
       "      <th>1</th>\n",
       "      <td>1928-01-03</td>\n",
       "      <td>17.760000</td>\n",
       "      <td>17.760000</td>\n",
       "      <td>17.760000</td>\n",
       "      <td>17.760000</td>\n",
       "      <td>17.760000</td>\n",
       "      <td>0</td>\n",
       "      <td>1.912654</td>\n",
       "    </tr>\n",
       "    <tr>\n",
       "      <th>2</th>\n",
       "      <td>1928-01-04</td>\n",
       "      <td>17.719999</td>\n",
       "      <td>17.719999</td>\n",
       "      <td>17.719999</td>\n",
       "      <td>17.719999</td>\n",
       "      <td>17.719999</td>\n",
       "      <td>0</td>\n",
       "      <td>1.905337</td>\n",
       "    </tr>\n",
       "    <tr>\n",
       "      <th>3</th>\n",
       "      <td>1928-01-05</td>\n",
       "      <td>17.549999</td>\n",
       "      <td>17.549999</td>\n",
       "      <td>17.549999</td>\n",
       "      <td>17.549999</td>\n",
       "      <td>17.549999</td>\n",
       "      <td>0</td>\n",
       "      <td>1.876714</td>\n",
       "    </tr>\n",
       "    <tr>\n",
       "      <th>4</th>\n",
       "      <td>1928-01-06</td>\n",
       "      <td>17.660000</td>\n",
       "      <td>17.660000</td>\n",
       "      <td>17.660000</td>\n",
       "      <td>17.660000</td>\n",
       "      <td>17.660000</td>\n",
       "      <td>0</td>\n",
       "      <td>1.893991</td>\n",
       "    </tr>\n",
       "  </tbody>\n",
       "</table>\n",
       "</div>"
      ],
      "text/plain": [
       "         Date       Open       High        Low      Close  Adj Close  Volume  \\\n",
       "0  1927-12-30  17.660000  17.660000  17.660000  17.660000  17.660000       0   \n",
       "1  1928-01-03  17.760000  17.760000  17.760000  17.760000  17.760000       0   \n",
       "2  1928-01-04  17.719999  17.719999  17.719999  17.719999  17.719999       0   \n",
       "3  1928-01-05  17.549999  17.549999  17.549999  17.549999  17.549999       0   \n",
       "4  1928-01-06  17.660000  17.660000  17.660000  17.660000  17.660000       0   \n",
       "\n",
       "   Open_norm  \n",
       "0   1.897009  \n",
       "1   1.912654  \n",
       "2   1.905337  \n",
       "3   1.876714  \n",
       "4   1.893991  "
      ]
     },
     "execution_count": 86,
     "metadata": {},
     "output_type": "execute_result"
    },
    {
     "data": {
      "text/html": [
       "<div>\n",
       "<style scoped>\n",
       "    .dataframe tbody tr th:only-of-type {\n",
       "        vertical-align: middle;\n",
       "    }\n",
       "\n",
       "    .dataframe tbody tr th {\n",
       "        vertical-align: top;\n",
       "    }\n",
       "\n",
       "    .dataframe thead th {\n",
       "        text-align: right;\n",
       "    }\n",
       "</style>\n",
       "<table border=\"1\" class=\"dataframe\">\n",
       "  <thead>\n",
       "    <tr style=\"text-align: right;\">\n",
       "      <th></th>\n",
       "      <th>Date</th>\n",
       "      <th>Open</th>\n",
       "      <th>High</th>\n",
       "      <th>Low</th>\n",
       "      <th>Close</th>\n",
       "      <th>Adj Close</th>\n",
       "      <th>Volume</th>\n",
       "      <th>Open_norm</th>\n",
       "    </tr>\n",
       "  </thead>\n",
       "  <tbody>\n",
       "    <tr>\n",
       "      <th>23130</th>\n",
       "      <td>2020-02-03</td>\n",
       "      <td>3235.659912</td>\n",
       "      <td>3268.439941</td>\n",
       "      <td>3235.659912</td>\n",
       "      <td>3248.919922</td>\n",
       "      <td>3248.919922</td>\n",
       "      <td>3757910000</td>\n",
       "      <td>0.280539</td>\n",
       "    </tr>\n",
       "    <tr>\n",
       "      <th>23131</th>\n",
       "      <td>2020-02-04</td>\n",
       "      <td>3280.610107</td>\n",
       "      <td>3306.919922</td>\n",
       "      <td>3280.610107</td>\n",
       "      <td>3297.590088</td>\n",
       "      <td>3297.590088</td>\n",
       "      <td>3995320000</td>\n",
       "      <td>0.297990</td>\n",
       "    </tr>\n",
       "    <tr>\n",
       "      <th>23132</th>\n",
       "      <td>2020-02-05</td>\n",
       "      <td>3324.909912</td>\n",
       "      <td>3337.580078</td>\n",
       "      <td>3313.750000</td>\n",
       "      <td>3334.689941</td>\n",
       "      <td>3334.689941</td>\n",
       "      <td>4117730000</td>\n",
       "      <td>0.315175</td>\n",
       "    </tr>\n",
       "    <tr>\n",
       "      <th>23133</th>\n",
       "      <td>2020-02-06</td>\n",
       "      <td>3344.919922</td>\n",
       "      <td>3347.959961</td>\n",
       "      <td>3334.389893</td>\n",
       "      <td>3345.780029</td>\n",
       "      <td>3345.780029</td>\n",
       "      <td>3868370000</td>\n",
       "      <td>0.322745</td>\n",
       "    </tr>\n",
       "    <tr>\n",
       "      <th>23134</th>\n",
       "      <td>2020-02-07</td>\n",
       "      <td>3335.540039</td>\n",
       "      <td>3341.419922</td>\n",
       "      <td>3322.120117</td>\n",
       "      <td>3327.709961</td>\n",
       "      <td>3327.709961</td>\n",
       "      <td>3730650000</td>\n",
       "      <td>0.318692</td>\n",
       "    </tr>\n",
       "  </tbody>\n",
       "</table>\n",
       "</div>"
      ],
      "text/plain": [
       "             Date         Open         High          Low        Close  \\\n",
       "23130  2020-02-03  3235.659912  3268.439941  3235.659912  3248.919922   \n",
       "23131  2020-02-04  3280.610107  3306.919922  3280.610107  3297.590088   \n",
       "23132  2020-02-05  3324.909912  3337.580078  3313.750000  3334.689941   \n",
       "23133  2020-02-06  3344.919922  3347.959961  3334.389893  3345.780029   \n",
       "23134  2020-02-07  3335.540039  3341.419922  3322.120117  3327.709961   \n",
       "\n",
       "         Adj Close      Volume  Open_norm  \n",
       "23130  3248.919922  3757910000   0.280539  \n",
       "23131  3297.590088  3995320000   0.297990  \n",
       "23132  3334.689941  4117730000   0.315175  \n",
       "23133  3345.780029  3868370000   0.322745  \n",
       "23134  3327.709961  3730650000   0.318692  "
      ]
     },
     "execution_count": 86,
     "metadata": {},
     "output_type": "execute_result"
    },
    {
     "data": {
      "text/html": [
       "<div>\n",
       "<style scoped>\n",
       "    .dataframe tbody tr th:only-of-type {\n",
       "        vertical-align: middle;\n",
       "    }\n",
       "\n",
       "    .dataframe tbody tr th {\n",
       "        vertical-align: top;\n",
       "    }\n",
       "\n",
       "    .dataframe thead th {\n",
       "        text-align: right;\n",
       "    }\n",
       "</style>\n",
       "<table border=\"1\" class=\"dataframe\">\n",
       "  <thead>\n",
       "    <tr style=\"text-align: right;\">\n",
       "      <th></th>\n",
       "      <th>Open</th>\n",
       "      <th>High</th>\n",
       "      <th>Low</th>\n",
       "      <th>Close</th>\n",
       "      <th>Adj Close</th>\n",
       "      <th>Volume</th>\n",
       "      <th>Open_norm</th>\n",
       "    </tr>\n",
       "  </thead>\n",
       "  <tbody>\n",
       "    <tr>\n",
       "      <th>count</th>\n",
       "      <td>23135.000000</td>\n",
       "      <td>23135.000000</td>\n",
       "      <td>23135.000000</td>\n",
       "      <td>23135.000000</td>\n",
       "      <td>23135.000000</td>\n",
       "      <td>2.313500e+04</td>\n",
       "      <td>23135.000000</td>\n",
       "    </tr>\n",
       "    <tr>\n",
       "      <th>mean</th>\n",
       "      <td>465.417805</td>\n",
       "      <td>468.087517</td>\n",
       "      <td>462.591294</td>\n",
       "      <td>465.521319</td>\n",
       "      <td>465.521319</td>\n",
       "      <td>7.337330e+08</td>\n",
       "      <td>0.080868</td>\n",
       "    </tr>\n",
       "    <tr>\n",
       "      <th>std</th>\n",
       "      <td>688.539723</td>\n",
       "      <td>691.981567</td>\n",
       "      <td>684.823107</td>\n",
       "      <td>688.661500</td>\n",
       "      <td>688.661500</td>\n",
       "      <td>1.432321e+09</td>\n",
       "      <td>0.525494</td>\n",
       "    </tr>\n",
       "    <tr>\n",
       "      <th>min</th>\n",
       "      <td>4.400000</td>\n",
       "      <td>4.400000</td>\n",
       "      <td>4.400000</td>\n",
       "      <td>4.400000</td>\n",
       "      <td>4.400000</td>\n",
       "      <td>0.000000e+00</td>\n",
       "      <td>-0.524781</td>\n",
       "    </tr>\n",
       "    <tr>\n",
       "      <th>25%</th>\n",
       "      <td>23.700001</td>\n",
       "      <td>23.700001</td>\n",
       "      <td>23.700001</td>\n",
       "      <td>23.700001</td>\n",
       "      <td>23.700001</td>\n",
       "      <td>1.230000e+06</td>\n",
       "      <td>-0.234218</td>\n",
       "    </tr>\n",
       "    <tr>\n",
       "      <th>50%</th>\n",
       "      <td>98.940002</td>\n",
       "      <td>99.709999</td>\n",
       "      <td>98.110001</td>\n",
       "      <td>98.930000</td>\n",
       "      <td>98.930000</td>\n",
       "      <td>1.673000e+07</td>\n",
       "      <td>-0.005426</td>\n",
       "    </tr>\n",
       "    <tr>\n",
       "      <th>75%</th>\n",
       "      <td>759.170013</td>\n",
       "      <td>766.820007</td>\n",
       "      <td>753.035004</td>\n",
       "      <td>759.505005</td>\n",
       "      <td>759.505005</td>\n",
       "      <td>4.773700e+08</td>\n",
       "      <td>0.194270</td>\n",
       "    </tr>\n",
       "    <tr>\n",
       "      <th>max</th>\n",
       "      <td>3344.919922</td>\n",
       "      <td>3347.959961</td>\n",
       "      <td>3334.389893</td>\n",
       "      <td>3345.780029</td>\n",
       "      <td>3345.780029</td>\n",
       "      <td>1.145623e+10</td>\n",
       "      <td>3.679967</td>\n",
       "    </tr>\n",
       "  </tbody>\n",
       "</table>\n",
       "</div>"
      ],
      "text/plain": [
       "               Open          High           Low         Close     Adj Close  \\\n",
       "count  23135.000000  23135.000000  23135.000000  23135.000000  23135.000000   \n",
       "mean     465.417805    468.087517    462.591294    465.521319    465.521319   \n",
       "std      688.539723    691.981567    684.823107    688.661500    688.661500   \n",
       "min        4.400000      4.400000      4.400000      4.400000      4.400000   \n",
       "25%       23.700001     23.700001     23.700001     23.700001     23.700001   \n",
       "50%       98.940002     99.709999     98.110001     98.930000     98.930000   \n",
       "75%      759.170013    766.820007    753.035004    759.505005    759.505005   \n",
       "max     3344.919922   3347.959961   3334.389893   3345.780029   3345.780029   \n",
       "\n",
       "             Volume     Open_norm  \n",
       "count  2.313500e+04  23135.000000  \n",
       "mean   7.337330e+08      0.080868  \n",
       "std    1.432321e+09      0.525494  \n",
       "min    0.000000e+00     -0.524781  \n",
       "25%    1.230000e+06     -0.234218  \n",
       "50%    1.673000e+07     -0.005426  \n",
       "75%    4.773700e+08      0.194270  \n",
       "max    1.145623e+10      3.679967  "
      ]
     },
     "execution_count": 86,
     "metadata": {},
     "output_type": "execute_result"
    }
   ],
   "source": [
    "# take a peak at the structure of the data\n",
    "sp500_df.head()\n",
    "sp500_df.tail()\n",
    "\n",
    "sp500_df.describe()"
   ]
  },
  {
   "cell_type": "code",
   "execution_count": 4,
   "metadata": {},
   "outputs": [
    {
     "data": {
      "text/plain": [
       "[<matplotlib.lines.Line2D at 0x1a15221630>]"
      ]
     },
     "execution_count": 4,
     "metadata": {},
     "output_type": "execute_result"
    },
    {
     "data": {
      "text/plain": [
       "Text(0.5, 0, 'time, financial years')"
      ]
     },
     "execution_count": 4,
     "metadata": {},
     "output_type": "execute_result"
    },
    {
     "data": {
      "text/plain": [
       "Text(0, 0.5, 'S&P 500 Value, $')"
      ]
     },
     "execution_count": 4,
     "metadata": {},
     "output_type": "execute_result"
    },
    {
     "name": "stderr",
     "output_type": "stream",
     "text": [
      "//anaconda3/lib/python3.7/site-packages/ipykernel_launcher.py:8: UserWarning: Matplotlib is currently using module://ipykernel.pylab.backend_inline, which is a non-GUI backend, so cannot show the figure.\n",
      "  \n"
     ]
    },
    {
     "data": {
      "image/png": "[encoded data removed]",
      "text/plain": [
       "<Figure size 432x288 with 1 Axes>"
      ]
     },
     "metadata": {
      "needs_background": "light"
     },
     "output_type": "display_data"
    }
   ],
   "source": [
    "# lets look at the long term trend for the opening value\n",
    "fig, ax = plt.subplots()\n",
    "ax.plot(t_years, sp500_df['Open'], c='tab:gray')\n",
    "ax.set_xlabel('time, financial years')\n",
    "ax.set_ylabel('S&P 500 Value, $')\n",
    "fig.tight_layout()\n",
    "fig.savefig('sp500.pdf')\n",
    "fig.show()"
   ]
  },
  {
   "cell_type": "markdown",
   "metadata": {},
   "source": [
    "## Fitting to find the expected value\n",
    "\n",
    "This curve looks like it may have some exponential growth trend to it, so it would be good to isolate the exponential growth and look at a time-normalized value for the S&P 500."
   ]
  },
  {
   "cell_type": "code",
   "execution_count": 5,
   "metadata": {},
   "outputs": [
    {
     "data": {
      "text/plain": [
       "[<matplotlib.lines.Line2D at 0x1a1621c588>]"
      ]
     },
     "execution_count": 5,
     "metadata": {},
     "output_type": "execute_result"
    },
    {
     "data": {
      "text/plain": [
       "[<matplotlib.lines.Line2D at 0x1a162959e8>]"
      ]
     },
     "execution_count": 5,
     "metadata": {},
     "output_type": "execute_result"
    },
    {
     "data": {
      "text/plain": [
       "Text(0.5, 0, 'time, financial years')"
      ]
     },
     "execution_count": 5,
     "metadata": {},
     "output_type": "execute_result"
    },
    {
     "data": {
      "text/plain": [
       "Text(0, 0.5, 'S&P 500 Value, $')"
      ]
     },
     "execution_count": 5,
     "metadata": {},
     "output_type": "execute_result"
    },
    {
     "data": {
      "text/plain": [
       "<matplotlib.legend.Legend at 0x1a16295630>"
      ]
     },
     "execution_count": 5,
     "metadata": {},
     "output_type": "execute_result"
    },
    {
     "name": "stdout",
     "output_type": "stream",
     "text": [
      "exponential e-fold growth time = 10.514183396623846 years\n"
     ]
    },
    {
     "data": {
      "image/png": "[encoded data removed]",
      "text/plain": [
       "<Figure size 432x288 with 1 Axes>"
      ]
     },
     "metadata": {
      "needs_background": "light"
     },
     "output_type": "display_data"
    }
   ],
   "source": [
    "# Fit an exponential curve to the closing date, so we can normalize to the local average\n",
    "oneOtau, a = np.polyfit(t_years, np.log(sp500_df['Open']), 1)\n",
    "exp_fit = np.exp(oneOtau * t_years + a)\n",
    "\n",
    "# Compare the fit to the real data on a semi-log plot\n",
    "fig, ax = plt.subplots()\n",
    "ax.semilogy(t_years, exp_fit, c='tab:blue', label='exponential')\n",
    "ax.semilogy(t_years, sp500_df['Open'], c='tab:gray', label='S&P 500 data')\n",
    "ax.set_xlabel('time, financial years')\n",
    "ax.set_ylabel('S&P 500 Value, $')\n",
    "ax.legend()\n",
    "fig.tight_layout()\n",
    "fig.savefig('exp_fit.png')\n",
    "\n",
    "print('exponential e-fold growth time = {} years'.format(1/oneOtau))"
   ]
  },
  {
   "cell_type": "code",
   "execution_count": 6,
   "metadata": {},
   "outputs": [
    {
     "data": {
      "text/plain": [
       "[<matplotlib.lines.Line2D at 0x1a1621cfd0>]"
      ]
     },
     "execution_count": 6,
     "metadata": {},
     "output_type": "execute_result"
    },
    {
     "data": {
      "text/plain": [
       "[<matplotlib.lines.Line2D at 0x1a1621ce10>]"
      ]
     },
     "execution_count": 6,
     "metadata": {},
     "output_type": "execute_result"
    },
    {
     "data": {
      "text/plain": [
       "Text(3, 150, 'Great Depression')"
      ]
     },
     "execution_count": 6,
     "metadata": {},
     "output_type": "execute_result"
    },
    {
     "data": {
      "text/plain": [
       "Text(20, 5, 'World War II')"
      ]
     },
     "execution_count": 6,
     "metadata": {},
     "output_type": "execute_result"
    },
    {
     "data": {
      "text/plain": [
       "Text(25, 25, 'Energy Crisis')"
      ]
     },
     "execution_count": 6,
     "metadata": {},
     "output_type": "execute_result"
    },
    {
     "data": {
      "text/plain": [
       "Text(45, 200, 'Great Recession')"
      ]
     },
     "execution_count": 6,
     "metadata": {},
     "output_type": "execute_result"
    },
    {
     "data": {
      "text/plain": [
       "Text(45, 3000, '90s Tech Bubble')"
      ]
     },
     "execution_count": 6,
     "metadata": {},
     "output_type": "execute_result"
    },
    {
     "data": {
      "text/plain": [
       "Text(0.5, 0, 'time, financial years')"
      ]
     },
     "execution_count": 6,
     "metadata": {},
     "output_type": "execute_result"
    },
    {
     "data": {
      "text/plain": [
       "Text(0, 0.5, 'S&P 500 Value, $')"
      ]
     },
     "execution_count": 6,
     "metadata": {},
     "output_type": "execute_result"
    },
    {
     "data": {
      "text/plain": [
       "<matplotlib.legend.Legend at 0x1a166b2470>"
      ]
     },
     "execution_count": 6,
     "metadata": {},
     "output_type": "execute_result"
    },
    {
     "name": "stdout",
     "output_type": "stream",
     "text": [
      "exponential e-fold growth time = 10.514183396623846 years\n"
     ]
    },
    {
     "data": {
      "image/png": "[encoded data removed]",
      "text/plain": [
       "<Figure size 432x288 with 1 Axes>"
      ]
     },
     "metadata": {
      "needs_background": "light"
     },
     "output_type": "display_data"
    }
   ],
   "source": [
    "# Create an annotated curve for historical events\n",
    "fig, ax = plt.subplots()\n",
    "ax.semilogy(t_years, exp_fit, c='tab:blue', label='exponential')\n",
    "ax.semilogy(t_years, sp500_df['Open'], c='tab:gray', label='S&P 500 data')\n",
    "\n",
    "ax.annotate('Great Depression', xy=(2, 30), xytext=(3, 150),\n",
    "            arrowprops=dict(facecolor='black', arrowstyle=\"->\",\n",
    "                            connectionstyle=\"arc3\"),\n",
    "            )\n",
    "\n",
    "ax.annotate('World War II', xy=(10, 10), xytext=(20, 5),\n",
    "            arrowprops=dict(facecolor='black', arrowstyle=\"->\",\n",
    "                            connectionstyle=\"arc3\"),\n",
    "            )\n",
    "\n",
    "ax.annotate('Energy Crisis', xy=(33, 80), xytext=(25, 25),\n",
    "            arrowprops=dict(facecolor='black', arrowstyle=\"->\",\n",
    "                            connectionstyle=\"arc3\"),\n",
    "            )\n",
    "\n",
    "ax.annotate('Great Recession', xy=(55, 1000), xytext=(45, 200),\n",
    "            arrowprops=dict(facecolor='black', arrowstyle=\"->\",\n",
    "                            connectionstyle=\"arc3\"),\n",
    "            )\n",
    "\n",
    "ax.annotate('90s Tech Bubble', xy=(51, 1100), xytext=(45, 3000),\n",
    "            arrowprops=dict(facecolor='black', arrowstyle=\"->\",\n",
    "                            connectionstyle=\"arc3\"),\n",
    "            )\n",
    "\n",
    "ax.set_xlabel('time, financial years')\n",
    "ax.set_ylabel('S&P 500 Value, $')\n",
    "ax.legend()\n",
    "fig.tight_layout()\n",
    "fig.savefig('exp_fit_annotated.png')\n",
    "\n",
    "print('exponential e-fold growth time = {} years'.format(1/oneOtau))"
   ]
  },
  {
   "cell_type": "markdown",
   "metadata": {},
   "source": [
    "A few interesting notes\n",
    "\n",
    "1. This is a pretty good exponential fit, considering this data starts in 1927 and ends in 2020\n",
    "2. From this, you expect the S&P 500 value to increase e-fold (2.72x) every 10.5 years, which is good to know from a financial planning standpoint"
   ]
  },
  {
   "cell_type": "code",
   "execution_count": 7,
   "metadata": {},
   "outputs": [
    {
     "data": {
      "text/plain": [
       "[<matplotlib.lines.Line2D at 0x1a16ccd438>]"
      ]
     },
     "execution_count": 7,
     "metadata": {},
     "output_type": "execute_result"
    },
    {
     "data": {
      "text/plain": [
       "<matplotlib.collections.PolyCollection at 0x1a16f85f60>"
      ]
     },
     "execution_count": 7,
     "metadata": {},
     "output_type": "execute_result"
    },
    {
     "data": {
      "text/plain": [
       "Text(3, 1.5, 'Great Depression')"
      ]
     },
     "execution_count": 7,
     "metadata": {},
     "output_type": "execute_result"
    },
    {
     "data": {
      "text/plain": [
       "Text(10, 0.5, 'World War II')"
      ]
     },
     "execution_count": 7,
     "metadata": {},
     "output_type": "execute_result"
    },
    {
     "data": {
      "text/plain": [
       "Text(25, 0.5, 'Energy Crisis')"
      ]
     },
     "execution_count": 7,
     "metadata": {},
     "output_type": "execute_result"
    },
    {
     "data": {
      "text/plain": [
       "Text(57, 1.0, 'Great Recession')"
      ]
     },
     "execution_count": 7,
     "metadata": {},
     "output_type": "execute_result"
    },
    {
     "data": {
      "text/plain": [
       "Text(40, -0.65, '90s Tech Bubble')"
      ]
     },
     "execution_count": 7,
     "metadata": {},
     "output_type": "execute_result"
    },
    {
     "data": {
      "text/plain": [
       "Text(0.5, 0, 'time, financial years')"
      ]
     },
     "execution_count": 7,
     "metadata": {},
     "output_type": "execute_result"
    },
    {
     "data": {
      "text/plain": [
       "Text(0, 0.5, 'Normalized S&P 500 Value')"
      ]
     },
     "execution_count": 7,
     "metadata": {},
     "output_type": "execute_result"
    },
    {
     "name": "stderr",
     "output_type": "stream",
     "text": [
      "//anaconda3/lib/python3.7/site-packages/ipykernel_launcher.py:37: UserWarning: Matplotlib is currently using module://ipykernel.pylab.backend_inline, which is a non-GUI backend, so cannot show the figure.\n"
     ]
    },
    {
     "data": {
      "image/png": "[encoded data removed]",
      "text/plain": [
       "<Figure size 432x288 with 1 Axes>"
      ]
     },
     "metadata": {
      "needs_background": "light"
     },
     "output_type": "display_data"
    }
   ],
   "source": [
    "# Create a normed Open value\n",
    "sp500_df['Open_norm'] = sp500_df['Open']/exp_fit - 1.\n",
    "\n",
    "fig, ax = plt.subplots()\n",
    "ax.plot(t_years, sp500_df['Open_norm'], c='tab:brown')\n",
    "ax.fill_between(t_years, 0., sp500_df['Open_norm'], facecolor='tab:brown', alpha=0.25)\n",
    "\n",
    "ax.annotate('Great Depression', xy=(2, 3), xytext=(3, 1.5),\n",
    "            arrowprops=dict(facecolor='black', arrowstyle=\"->\",\n",
    "                            connectionstyle=\"arc3\"),\n",
    "            )\n",
    "\n",
    "ax.annotate('World War II', xy=(10, 0.), xytext=(10, .5),\n",
    "            arrowprops=dict(facecolor='black', arrowstyle=\"->\",\n",
    "                            connectionstyle=\"arc3\"),\n",
    "            )\n",
    "\n",
    "ax.annotate('Energy Crisis', xy=(33, 0.), xytext=(25, .5),\n",
    "            arrowprops=dict(facecolor='black', arrowstyle=\"->\",\n",
    "                            connectionstyle=\"arc3\"),\n",
    "            )\n",
    "\n",
    "ax.annotate('Great Recession', xy=(55, .5), xytext=(57, 1.),\n",
    "            arrowprops=dict(facecolor='black', arrowstyle=\"->\",\n",
    "                            connectionstyle=\"arc3\"),\n",
    "            )\n",
    "\n",
    "ax.annotate('90s Tech Bubble', xy=(51, 0.), xytext=(40, -.65),\n",
    "            arrowprops=dict(facecolor='black', arrowstyle=\"->\",\n",
    "                            connectionstyle=\"arc3\"),\n",
    "            )\n",
    "\n",
    "ax.set_xlabel('time, financial years')\n",
    "ax.set_ylabel('Normalized S&P 500 Value')\n",
    "fig.tight_layout()\n",
    "fig.savefig('sp500_normed.png')\n",
    "fig.show()"
   ]
  },
  {
   "cell_type": "markdown",
   "metadata": {},
   "source": [
    "## Computing the autocorrelation function"
   ]
  },
  {
   "cell_type": "code",
   "execution_count": 102,
   "metadata": {},
   "outputs": [],
   "source": [
    "def autocorr(x):\n",
    "    y = x# - np.mean(x)\n",
    "    result = np.correlate(y, y, mode='full')\n",
    "    #sigma_sqrd = np.var(y)\n",
    "    return result[result.size // 2:]#/sigma_sqrd/len(y)"
   ]
  },
  {
   "cell_type": "code",
   "execution_count": 103,
   "metadata": {},
   "outputs": [
    {
     "name": "stdout",
     "output_type": "stream",
     "text": [
      "23135\n",
      "23135\n"
     ]
    }
   ],
   "source": [
    "sp500_corr = autocorr(sp500_df['Open_norm'])\n",
    "print(len(sp500_corr))\n",
    "print(len(sp500_df['Open_norm']))"
   ]
  },
  {
   "cell_type": "code",
   "execution_count": 104,
   "metadata": {},
   "outputs": [
    {
     "data": {
      "text/plain": [
       "[<matplotlib.lines.Line2D at 0x1a1b7a3d68>]"
      ]
     },
     "execution_count": 104,
     "metadata": {},
     "output_type": "execute_result"
    },
    {
     "data": {
      "image/png": "[encoded data removed]",
      "text/plain": [
       "<Figure size 432x288 with 1 Axes>"
      ]
     },
     "metadata": {
      "needs_background": "light"
     },
     "output_type": "display_data"
    }
   ],
   "source": [
    "plt.plot(t_years, sp500_corr)"
   ]
  },
  {
   "cell_type": "code",
   "execution_count": null,
   "metadata": {},
   "outputs": [],
   "source": []
  }
 ],
 "metadata": {
  "kernelspec": {
   "display_name": "Python 3",
   "language": "python",
   "name": "python3"
  },
  "language_info": {
   "codemirror_mode": {
    "name": "ipython",
    "version": 3
   },
   "file_extension": ".py",
   "mimetype": "text/x-python",
   "name": "python",
   "nbconvert_exporter": "python",
   "pygments_lexer": "ipython3",
   "version": "3.7.3"
  }
 },
 "nbformat": 4,
 "nbformat_minor": 2
}
